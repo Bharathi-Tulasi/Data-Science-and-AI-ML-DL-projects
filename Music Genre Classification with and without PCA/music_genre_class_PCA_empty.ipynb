{
  "nbformat": 4,
  "nbformat_minor": 0,
  "metadata": {
    "colab": {
      "provenance": []
    },
    "kernelspec": {
      "name": "python3",
      "display_name": "Python 3"
    },
    "language_info": {
      "name": "python"
    }
  },
  "cells": [
    {
      "cell_type": "markdown",
      "source": [
        "## Importing the libraries"
      ],
      "metadata": {
        "id": "R1bmKNG_iHDC"
      }
    },
    {
      "cell_type": "code",
      "execution_count": null,
      "metadata": {
        "id": "l-Ptq7k1h7XQ"
      },
      "outputs": [],
      "source": []
    },
    {
      "cell_type": "markdown",
      "source": [
        "Q. From where can we import LabelEncoder and StandardScaler?\n",
        "\n",
        "A.\n",
        "\n",
        "Q. How can we import PCA?\n",
        "\n",
        "A."
      ],
      "metadata": {
        "id": "XbkGMdkti_5J"
      }
    },
    {
      "cell_type": "markdown",
      "source": [
        "## Loading the dataset"
      ],
      "metadata": {
        "id": "GYSY9oeYiGFa"
      }
    },
    {
      "cell_type": "code",
      "source": [],
      "metadata": {
        "id": "aN_zX93JiPr8"
      },
      "execution_count": null,
      "outputs": []
    },
    {
      "cell_type": "markdown",
      "source": [
        "## Check null values"
      ],
      "metadata": {
        "id": "t97LNiisiBGj"
      }
    },
    {
      "cell_type": "code",
      "source": [],
      "metadata": {
        "id": "0Z04HPKpiWwL"
      },
      "execution_count": null,
      "outputs": []
    },
    {
      "cell_type": "markdown",
      "source": [
        "Q. In which columns we have null values? How many null values are there in those columns?"
      ],
      "metadata": {
        "id": "7SsGDA2fiXYb"
      }
    },
    {
      "cell_type": "markdown",
      "source": [
        "## Drop null values"
      ],
      "metadata": {
        "id": "OTyyHAkaib-D"
      }
    },
    {
      "cell_type": "code",
      "source": [],
      "metadata": {
        "id": "4Iuoc4Ijih5d"
      },
      "execution_count": null,
      "outputs": []
    },
    {
      "cell_type": "markdown",
      "source": [
        "## Encoding Categorical values using LabelEncoder()"
      ],
      "metadata": {
        "id": "xATgY8TgihaF"
      }
    },
    {
      "cell_type": "code",
      "source": [],
      "metadata": {
        "id": "nehT_92Aim-d"
      },
      "execution_count": null,
      "outputs": []
    },
    {
      "cell_type": "markdown",
      "source": [
        "## Check Correlation between the features"
      ],
      "metadata": {
        "id": "7idLYRGFiqdt"
      }
    },
    {
      "cell_type": "code",
      "source": [],
      "metadata": {
        "id": "hJ1E5AP4isb_"
      },
      "execution_count": null,
      "outputs": []
    },
    {
      "cell_type": "markdown",
      "source": [
        "Q. Which features have highest correlation and what is their correlation coffiecient?"
      ],
      "metadata": {
        "id": "sBR9SD0li4iH"
      }
    },
    {
      "cell_type": "markdown",
      "source": [
        "## Inputs and Target"
      ],
      "metadata": {
        "id": "XqnfMmzZirpf"
      }
    },
    {
      "cell_type": "code",
      "source": [],
      "metadata": {
        "id": "c1UBj0XvjPly"
      },
      "execution_count": null,
      "outputs": []
    },
    {
      "cell_type": "markdown",
      "source": [
        "## Splitting the Dataset"
      ],
      "metadata": {
        "id": "F1lnbGlKjQLa"
      }
    },
    {
      "cell_type": "code",
      "source": [],
      "metadata": {
        "id": "VppXPxGDjSya"
      },
      "execution_count": null,
      "outputs": []
    },
    {
      "cell_type": "markdown",
      "source": [
        "## Standardization of data"
      ],
      "metadata": {
        "id": "YNCFmpcIjTQ6"
      }
    },
    {
      "cell_type": "code",
      "source": [],
      "metadata": {
        "id": "HpLkWqy0jXo7"
      },
      "execution_count": null,
      "outputs": []
    },
    {
      "cell_type": "markdown",
      "source": [
        "## PCA"
      ],
      "metadata": {
        "id": "AYuIIrI4jYBL"
      }
    },
    {
      "cell_type": "code",
      "source": [],
      "metadata": {
        "id": "rNCALB0qjeJr"
      },
      "execution_count": null,
      "outputs": []
    },
    {
      "cell_type": "markdown",
      "source": [
        "Q. What is the number of components for cumulative explained variance of 0.95 or 95%\n",
        "\n",
        "A."
      ],
      "metadata": {
        "id": "H-kRCgaCjelq"
      }
    },
    {
      "cell_type": "markdown",
      "source": [
        "## PCA n_components for 95% cumulative explained variance"
      ],
      "metadata": {
        "id": "-1LLKHsPjpb7"
      }
    },
    {
      "cell_type": "code",
      "source": [],
      "metadata": {
        "id": "0cwlllGjjqeD"
      },
      "execution_count": null,
      "outputs": []
    },
    {
      "cell_type": "markdown",
      "source": [
        "## Logistic Regression after PCA"
      ],
      "metadata": {
        "id": "I_Jjtd1rjtmc"
      }
    },
    {
      "cell_type": "code",
      "source": [],
      "metadata": {
        "id": "1a29a5wVjuuT"
      },
      "execution_count": null,
      "outputs": []
    },
    {
      "cell_type": "markdown",
      "source": [
        "Q. Which genre has highest precision and which genre has lowest recall?\n",
        "\n",
        "A."
      ],
      "metadata": {
        "id": "LyjdFVizjvZ7"
      }
    },
    {
      "cell_type": "markdown",
      "source": [
        "## Logistic Regression before PCA"
      ],
      "metadata": {
        "id": "At_4pBQIj4gk"
      }
    },
    {
      "cell_type": "code",
      "source": [],
      "metadata": {
        "id": "HjZMJN3Jj7u0"
      },
      "execution_count": null,
      "outputs": []
    },
    {
      "cell_type": "code",
      "source": [],
      "metadata": {
        "id": "S6tDuoJYlxOC"
      },
      "execution_count": null,
      "outputs": []
    },
    {
      "cell_type": "markdown",
      "source": [
        "Q. For what classes of genre, the precision and recall have degraded without PCA?\n",
        "\n",
        "A."
      ],
      "metadata": {
        "id": "_tP3sQ8WlxuC"
      }
    },
    {
      "cell_type": "markdown",
      "source": [
        "## Predicting Null Genres using Logistic Regression model after PCA"
      ],
      "metadata": {
        "id": "KdsQLKzxlzVZ"
      }
    },
    {
      "cell_type": "code",
      "source": [],
      "metadata": {
        "id": "lPHYR2Dil3wZ"
      },
      "execution_count": null,
      "outputs": []
    },
    {
      "cell_type": "code",
      "source": [],
      "metadata": {
        "id": "III3zOY1l7Xm"
      },
      "execution_count": null,
      "outputs": []
    },
    {
      "cell_type": "markdown",
      "source": [
        "## Converting numerical encoded Genre values to Genre names"
      ],
      "metadata": {
        "id": "_ZorvHsRl7vv"
      }
    },
    {
      "cell_type": "code",
      "source": [],
      "metadata": {
        "id": "94xnbu1Al8_u"
      },
      "execution_count": null,
      "outputs": []
    },
    {
      "cell_type": "markdown",
      "source": [
        "Q. What is the predicted genre for 990th row?\n",
        "\n"
      ],
      "metadata": {
        "id": "l3SKXcVHmAxn"
      }
    },
    {
      "cell_type": "code",
      "source": [],
      "metadata": {
        "id": "NX8Y2Id-mCAP"
      },
      "execution_count": null,
      "outputs": []
    },
    {
      "cell_type": "markdown",
      "source": [
        "A."
      ],
      "metadata": {
        "id": "8yO_MXPRoYST"
      }
    }
  ]
}